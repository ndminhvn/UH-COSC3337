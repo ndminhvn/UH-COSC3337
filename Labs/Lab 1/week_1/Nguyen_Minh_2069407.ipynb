{
 "cells": [
  {
   "attachments": {},
   "cell_type": "markdown",
   "metadata": {},
   "source": [
    "# COSC 3337 Lab 01 Minh Nguyen"
   ]
  },
  {
   "attachments": {},
   "cell_type": "markdown",
   "metadata": {},
   "source": [
    "Import numpy"
   ]
  },
  {
   "cell_type": "code",
   "execution_count": 1,
   "metadata": {},
   "outputs": [
    {
     "name": "stdout",
     "output_type": "stream",
     "text": [
      "[1, 2, 3, 4, 5]\n",
      "<class 'list'>\n"
     ]
    }
   ],
   "source": [
    "import numpy as np\n",
    "python_list = [1,2,3,4,5]\n",
    "print(python_list)\n",
    "print(type(python_list))"
   ]
  },
  {
   "attachments": {},
   "cell_type": "markdown",
   "metadata": {},
   "source": [
    "Python list"
   ]
  },
  {
   "cell_type": "code",
   "execution_count": 2,
   "metadata": {},
   "outputs": [
    {
     "name": "stdout",
     "output_type": "stream",
     "text": [
      "[1, 3, 4, 4, 6, 1, 2]\n",
      "<class 'list'>\n"
     ]
    }
   ],
   "source": [
    "python_list = [1,3,4, 4, 6,1, 2]\n",
    "print(python_list)\n",
    "print(type(python_list))"
   ]
  },
  {
   "attachments": {},
   "cell_type": "markdown",
   "metadata": {},
   "source": [
    "numpy array function"
   ]
  },
  {
   "cell_type": "code",
   "execution_count": 3,
   "metadata": {},
   "outputs": [
    {
     "name": "stdout",
     "output_type": "stream",
     "text": [
      "[1 3 4 4 6 1 2]\n",
      "<class 'numpy.ndarray'>\n"
     ]
    }
   ],
   "source": [
    "numpy_array = np.array(python_list)\n",
    "print(numpy_array)\n",
    "print(type(numpy_array))"
   ]
  },
  {
   "attachments": {},
   "cell_type": "markdown",
   "metadata": {},
   "source": [
    "2D array"
   ]
  },
  {
   "cell_type": "code",
   "execution_count": 4,
   "metadata": {},
   "outputs": [
    {
     "name": "stdout",
     "output_type": "stream",
     "text": [
      "[[1, 2, 3, 4, 5], [6, 7, 8, 9, 10], [11, 12, 13, 14, 15]]\n",
      "<class 'list'>\n"
     ]
    }
   ],
   "source": [
    "python_2d_array = [[1, 2, 3, 4, 5], [6, 7, 8, 9, 10], [11, 12, 13, 14, 15]]\n",
    "print(python_2d_array)\n",
    "print(type(python_2d_array))"
   ]
  },
  {
   "attachments": {},
   "cell_type": "markdown",
   "metadata": {},
   "source": [
    "2D array with numpy"
   ]
  },
  {
   "cell_type": "code",
   "execution_count": 5,
   "metadata": {},
   "outputs": [
    {
     "name": "stdout",
     "output_type": "stream",
     "text": [
      "[[ 1  2  3  4  5]\n",
      " [ 6  7  8  9 10]\n",
      " [11 12 13 14 15]]\n",
      "<class 'numpy.ndarray'>\n"
     ]
    }
   ],
   "source": [
    "numpy_2d_array = np.array(python_2d_array)\n",
    "print(numpy_2d_array)\n",
    "print(type(numpy_2d_array))"
   ]
  },
  {
   "attachments": {},
   "cell_type": "markdown",
   "metadata": {},
   "source": [
    "Not a 2D array"
   ]
  },
  {
   "cell_type": "code",
   "execution_count": 6,
   "metadata": {},
   "outputs": [
    {
     "name": "stdout",
     "output_type": "stream",
     "text": [
      "[list([1, 2, 3]) list([1, 2]) list([1, 3, 4, 5])]\n",
      "<class 'numpy.ndarray'>\n"
     ]
    },
    {
     "name": "stderr",
     "output_type": "stream",
     "text": [
      "/var/folders/b5/174qqshj3px_y32r11qg8td40000gn/T/ipykernel_42021/1734345002.py:2: VisibleDeprecationWarning: Creating an ndarray from ragged nested sequences (which is a list-or-tuple of lists-or-tuples-or ndarrays with different lengths or shapes) is deprecated. If you meant to do this, you must specify 'dtype=object' when creating the ndarray.\n",
      "  numpy_2d_array_test = np.array(python_2d_array_test)\n"
     ]
    }
   ],
   "source": [
    "python_2d_array_test = [[1,2,3],[1,2],[1,3,4,5]]\n",
    "numpy_2d_array_test = np.array(python_2d_array_test)\n",
    "print(numpy_2d_array_test)\n",
    "print(type(numpy_2d_array_test))"
   ]
  },
  {
   "attachments": {},
   "cell_type": "markdown",
   "metadata": {},
   "source": [
    "numpy arange"
   ]
  },
  {
   "cell_type": "code",
   "execution_count": 7,
   "metadata": {},
   "outputs": [
    {
     "name": "stdout",
     "output_type": "stream",
     "text": [
      "arange1:  [ 0  1  2  3  4  5  6  7  8  9 10 11 12 13 14 15 16 17 18 19]\n",
      "arange1_1:  [ 0  1  2  3  4  5  6  7  8  9 10 11 12 13 14 15 16 17 18 19]\n"
     ]
    }
   ],
   "source": [
    "arange1 = np.arange(0,20)\n",
    "arange1_1 = np.arange(0,20,1)\n",
    "print('arange1: ', arange1)\n",
    "print('arange1_1: ', arange1_1)"
   ]
  },
  {
   "attachments": {},
   "cell_type": "markdown",
   "metadata": {},
   "source": [
    "numpy arange with step size"
   ]
  },
  {
   "cell_type": "code",
   "execution_count": 8,
   "metadata": {},
   "outputs": [
    {
     "name": "stdout",
     "output_type": "stream",
     "text": [
      "arange2:  [0 2 4 6 8]\n",
      "arange2_1:  [0]\n"
     ]
    }
   ],
   "source": [
    "arange2 = np.arange(0,10,2)\n",
    "arange2_1 = np.arange(0,2,10)\n",
    "print('arange2: ', arange2)\n",
    "print('arange2_1: ', arange2_1)"
   ]
  },
  {
   "attachments": {},
   "cell_type": "markdown",
   "metadata": {},
   "source": [
    "numpy arange 2d array"
   ]
  },
  {
   "cell_type": "code",
   "execution_count": 9,
   "metadata": {},
   "outputs": [
    {
     "name": "stdout",
     "output_type": "stream",
     "text": [
      "numpy_2d_arange_array:  [[ 0  1  2  3  4]\n",
      " [ 5  6  7  8  9]\n",
      " [10 11 12 13 14]]\n",
      "numpy_2d_arange_array_test:  [[ 0  1  2  3  4]\n",
      " [ 5  6  7  8  9]\n",
      " [10 11 12 13 14]\n",
      " [15 16 17 18 19]]\n"
     ]
    }
   ],
   "source": [
    "numpy_2d_arange_array = np.arange(0, 15).reshape(3, 5)\n",
    "numpy_2d_arange_array_test = np.arange(0, 20).reshape(4, 5)\n",
    "print('numpy_2d_arange_array: ', numpy_2d_arange_array)\n",
    "print('numpy_2d_arange_array_test: ', numpy_2d_arange_array_test)"
   ]
  },
  {
   "attachments": {},
   "cell_type": "markdown",
   "metadata": {},
   "source": [
    "ndarray of zeroes or ones"
   ]
  },
  {
   "cell_type": "code",
   "execution_count": 10,
   "metadata": {},
   "outputs": [
    {
     "name": "stdout",
     "output_type": "stream",
     "text": [
      "zeros_np:  [0. 0. 0. 0. 0. 0. 0. 0. 0. 0.]\n",
      "zeros_np_reshape1:  [[0. 0. 0. 0. 0.]\n",
      " [0. 0. 0. 0. 0.]]\n",
      "ones_np_reshape2:  [[1. 1. 1.]\n",
      " [1. 1. 1.]\n",
      " [1. 1. 1.]\n",
      " [1. 1. 1.]\n",
      " [1. 1. 1.]]\n"
     ]
    }
   ],
   "source": [
    "zeros_np = np.zeros(10)\n",
    "zeros_np_reshape1 = np.zeros(10).reshape(2,5)\n",
    "ones_np_reshape2 = np.ones(15).reshape(5,3)\n",
    "print('zeros_np: ', zeros_np)\n",
    "print('zeros_np_reshape1: ', zeros_np_reshape1)\n",
    "print('ones_np_reshape2: ', ones_np_reshape2)"
   ]
  },
  {
   "attachments": {},
   "cell_type": "markdown",
   "metadata": {},
   "source": [
    "dtype=int"
   ]
  },
  {
   "cell_type": "code",
   "execution_count": 11,
   "metadata": {},
   "outputs": [
    {
     "data": {
      "text/plain": [
       "array([[1, 1, 1, 1, 1, 1],\n",
       "       [1, 1, 1, 1, 1, 1],\n",
       "       [1, 1, 1, 1, 1, 1],\n",
       "       [1, 1, 1, 1, 1, 1]])"
      ]
     },
     "execution_count": 11,
     "metadata": {},
     "output_type": "execute_result"
    }
   ],
   "source": [
    "np.ones(24, dtype=int).reshape(4, 6)"
   ]
  },
  {
   "attachments": {},
   "cell_type": "markdown",
   "metadata": {},
   "source": [
    "identity matrix"
   ]
  },
  {
   "cell_type": "code",
   "execution_count": 12,
   "metadata": {},
   "outputs": [
    {
     "data": {
      "text/plain": [
       "array([[1, 0, 0, 0],\n",
       "       [0, 1, 0, 0],\n",
       "       [0, 0, 1, 0],\n",
       "       [0, 0, 0, 1]])"
      ]
     },
     "execution_count": 12,
     "metadata": {},
     "output_type": "execute_result"
    }
   ],
   "source": [
    "np.eye(4, dtype=int)"
   ]
  },
  {
   "attachments": {},
   "cell_type": "markdown",
   "metadata": {},
   "source": [
    "generate an ndarray of random numbers"
   ]
  },
  {
   "cell_type": "code",
   "execution_count": 13,
   "metadata": {},
   "outputs": [
    {
     "name": "stdout",
     "output_type": "stream",
     "text": [
      "[0.63221983 0.08007579 0.58438305 0.68834122 0.96817547]\n",
      "[-0.53335323  0.14359853  1.05872005  0.45623498 -0.24742821]\n",
      "53\n",
      "[1 3 8 9 3 5 6 7 7 3 1 1 7 2 3]\n",
      "A:  [[ 5  5  2 19  0]\n",
      " [ 9  1  1 16  9]\n",
      " [ 2 19 15 10 11]\n",
      " [ 3  3  9  6  4]]\n",
      "The smallest value in A is 0, and is a located at position 4\n",
      "The largest value in A is 19, and is a located at position 3\n",
      "Shape:  (4, 5)\n"
     ]
    }
   ],
   "source": [
    "print(np.random.rand(5))\n",
    "print(np.random.randn(5))\n",
    "print(np.random.randint(10,200))\n",
    "print(np.random.randint(1, 10, 15))\n",
    "A = np.random.randint(0, 20, 20).reshape(4, 5)\n",
    "print('A: ', A)\n",
    "print(f'The smallest value in A is {A.min()}, and is a located at position {A.argmin()}')\n",
    "print(f'The largest value in A is {A.max()}, and is a located at position {A.argmax()}')\n",
    "print('Shape: ', np.shape(A))"
   ]
  },
  {
   "attachments": {},
   "cell_type": "markdown",
   "metadata": {},
   "source": [
    "Common Operations"
   ]
  },
  {
   "cell_type": "code",
   "execution_count": 14,
   "metadata": {},
   "outputs": [
    {
     "name": "stdout",
     "output_type": "stream",
     "text": [
      "A: [1 2 3 4 5 6 7 8 9]\n",
      "B: [ 1  3  5  7  9 11 13 15 17]\n",
      "C: \n",
      "[[0 1 2 3]\n",
      " [4 5 6 7]]\n",
      "D: \n",
      "[[0 1]\n",
      " [2 3]\n",
      " [4 5]\n",
      " [6 7]]\n",
      "E: \n",
      "[[ 1  2  3  4  5]\n",
      " [ 6  7  8  9 10]\n",
      " [11 12 13 14 15]]\n",
      "F: [ 0  1  2  3  4  5  6  7  8  9 10]\n"
     ]
    }
   ],
   "source": [
    "A = np.arange(1, 10)\n",
    "B = np.arange(1, 19, 2)\n",
    "C = np.arange(0, 8).reshape(2, 4)\n",
    "D = np.arange(0, 8).reshape(4, 2)\n",
    "E = np.arange(1, 16).reshape(3, 5)\n",
    "F = np.arange(11)\n",
    "print(f'A: {A}')\n",
    "print(f'B: {B}')\n",
    "print(f'C: \\n{C}')\n",
    "print(f'D: \\n{D}')\n",
    "print(f'E: \\n{E}')\n",
    "print(f'F: {F}')"
   ]
  },
  {
   "attachments": {},
   "cell_type": "markdown",
   "metadata": {},
   "source": [
    "Arithmetic"
   ]
  },
  {
   "cell_type": "code",
   "execution_count": 15,
   "metadata": {},
   "outputs": [
    {
     "name": "stdout",
     "output_type": "stream",
     "text": [
      "A+B: [ 2  5  8 11 14 17 20 23 26]\n",
      "B-A: [0 1 2 3 4 5 6 7 8]\n",
      "A+3: [ 4  5  6  7  8  9 10 11 12]\n",
      "A*B: [  1   6  15  28  45  66  91 120 153]\n",
      "B/A: [1.         1.5        1.66666667 1.75       1.8        1.83333333\n",
      " 1.85714286 1.875      1.88888889]\n",
      "A%B: [0 2 3 4 5 6 7 8 9]\n",
      "C(2x4) * D(4x2): \n",
      "[[28 34]\n",
      " [76 98]]\n"
     ]
    }
   ],
   "source": [
    "print(f'A+B: {A+B}')\n",
    "print(f'B-A: {B-A}')\n",
    "print(f'A+3: {A+3}')\n",
    "print(f'A*B: {A*B}')\n",
    "print(f'B/A: {B/A}')\n",
    "print(f'A%B: {A%B}')\n",
    "print(f'C(2x4) * D(4x2): \\n{np.matmul(C, D)}')\n"
   ]
  },
  {
   "attachments": {},
   "cell_type": "markdown",
   "metadata": {},
   "source": [
    "Universal Functions"
   ]
  },
  {
   "cell_type": "code",
   "execution_count": 16,
   "metadata": {},
   "outputs": [
    {
     "name": "stdout",
     "output_type": "stream",
     "text": [
      "---- Universal Functions ----\n",
      "sqrt(E): [[1.         1.41421356 1.73205081 2.         2.23606798]\n",
      " [2.44948974 2.64575131 2.82842712 3.         3.16227766]\n",
      " [3.31662479 3.46410162 3.60555128 3.74165739 3.87298335]]\n",
      "log(E): [[0.         0.69314718 1.09861229 1.38629436 1.60943791]\n",
      " [1.79175947 1.94591015 2.07944154 2.19722458 2.30258509]\n",
      " [2.39789527 2.48490665 2.56494936 2.63905733 2.7080502 ]]\n",
      "where() example: [  0  -2  40  -2  80  -2 120  -2 160  -2 200]\n"
     ]
    }
   ],
   "source": [
    "print('---- Universal Functions ----')\n",
    "print(f'sqrt(E): {np.sqrt(E)}')\n",
    "print(f'log(E): {np.log(E)}')\n",
    "print(f'where() example: {np.where(F%2!=0, -2, F*20)}')"
   ]
  },
  {
   "attachments": {},
   "cell_type": "markdown",
   "metadata": {},
   "source": [
    "Indexing"
   ]
  },
  {
   "cell_type": "code",
   "execution_count": 17,
   "metadata": {},
   "outputs": [
    {
     "name": "stdout",
     "output_type": "stream",
     "text": [
      "---- Indexing 1d array ----\n",
      "A: [ 0  1  2  3  4  5  6  7  8  9 10]\n",
      "---- Obtain a single element ----\n",
      "A[0]: 0\n",
      "A[4]: 4\n",
      "A[10]: 10\n",
      "---- Grab a section ----\n",
      "A[5] - A[10]: [ 5  6  7  8  9 10]\n",
      "---- Modify values in the array ----\n",
      "Modified A: [  0   1   2 100 100 100 100 100 100   9  10]\n"
     ]
    }
   ],
   "source": [
    "# Indexing 1d array\n",
    "print('---- Indexing 1d array ----')\n",
    "A = np.arange(11)\n",
    "print(f'A: {A}')\n",
    "# Obtain a single element\n",
    "print('---- Obtain a single element ----')\n",
    "print(f'A[0]: {A[0]}')\n",
    "print(f'A[4]: {A[4]}')\n",
    "print(f'A[10]: {A[10]}')\n",
    "# Grab a section of the array\n",
    "print('---- Grab a section ----')\n",
    "print(f'A[5] - A[10]: {A[5:11]}')\n",
    "# Modify values in the array\n",
    "print('---- Modify values in the array ----')\n",
    "A[3:9] = 100\n",
    "print(f'Modified A: {A}')"
   ]
  },
  {
   "cell_type": "code",
   "execution_count": 18,
   "metadata": {},
   "outputs": [
    {
     "name": "stdout",
     "output_type": "stream",
     "text": [
      "---- Indexing a 2d array ----\n",
      "B: [[ 0  1  2  3  4  5]\n",
      " [ 6  7  8  9 10 11]\n",
      " [12 13 14 15 16 17]\n",
      " [18 19 20 21 22 23]\n",
      " [24 25 26 27 28 29]]\n",
      "---- Obtain a single element ----\n",
      "0th row and 5th col in B: 5\n",
      "3rd row and 3rd col in B: 21\n",
      "4th row and 1st col in B: 25\n",
      "---- Grab a section of the array ----\n",
      "[[ 3  4  5]\n",
      " [ 9 10 11]\n",
      " [15 16 17]]\n",
      "---- Modify the values of the array ----\n",
      "Modified B: [[  0   1   2 200 200 200]\n",
      " [  6   7   8 200 200 200]\n",
      " [ 12  13  14 200 200 200]\n",
      " [ 18  19  20  21  22  23]\n",
      " [ 24  25  26  27  28  29]]\n"
     ]
    }
   ],
   "source": [
    "# Indexing a 2d array\n",
    "print('---- Indexing a 2d array ----')\n",
    "B = np.arange(30).reshape(5, 6)\n",
    "print(f'B: {B}')\n",
    "# Obtain a single element\n",
    "print('---- Obtain a single element ----')\n",
    "print(f'0th row and 5th col in B: {B[0, 5]}')\n",
    "print(f'3rd row and 3rd col in B: {B[3, 3]}')\n",
    "print(f'4th row and 1st col in B: {B[4, 1]}')\n",
    "#  Grab a section of the array\n",
    "print('---- Grab a section of the array ----')\n",
    "print(B[0:3, 3:6])\n",
    "# Modify the values of the array\n",
    "print('---- Modify the values of the array ----')\n",
    "B[0:3, 3:6] = 200\n",
    "print(f'Modified B: {B}')"
   ]
  },
  {
   "cell_type": "code",
   "execution_count": 19,
   "metadata": {},
   "outputs": [
    {
     "name": "stdout",
     "output_type": "stream",
     "text": [
      "---- Boolean Array Indexing ----\n",
      "C: [[ 0  1  2  3  4  5  6]\n",
      " [ 7  8  9 10 11 12 13]\n",
      " [14 15 16 17 18 19 20]\n",
      " [21 22 23 24 25 26 27]\n",
      " [28 29 30 31 32 33 34]]\n",
      "---- Indexing using comparison operators ----\n",
      "C with odd number condition: \n",
      "[[False  True False  True False  True False]\n",
      " [ True False  True False  True False  True]\n",
      " [False  True False  True False  True False]\n",
      " [ True False  True False  True False  True]\n",
      " [False  True False  True False  True False]]\n",
      "---- Sum function with condition ----\n",
      "Total number of odd numbers in C: 17\n",
      "Total number of even numbers in C: 18\n",
      "---- Filter elements with condition ----\n",
      "Filter out odd numbers from C: [ 1  3  5  7  9 11 13 15 17 19 21 23 25 27 29 31 33]\n"
     ]
    }
   ],
   "source": [
    "# Boolean Array Indexing\n",
    "print('---- Boolean Array Indexing ----')\n",
    "C = np.arange(35).reshape(5, 7)\n",
    "print(f'C: {C}')\n",
    "# Indexing using comparison operators\n",
    "print('---- Indexing using comparison operators ----')\n",
    "# print(f'Indexes with condition C%2 == 0: \\n{np.where(C%2 == 0,True,False)}')\n",
    "print(f'C with odd number condition: \\n{C%2 != 0}')\n",
    "# sum function with condition\n",
    "print('---- Sum function with condition ----')\n",
    "print(f'Total number of odd numbers in C: {(C%2 != 0).sum()}')\n",
    "print(f'Total number of even numbers in C: {(C%2 == 0).sum()}')\n",
    "# Filter elements with condition\n",
    "print('---- Filter elements with condition ----')\n",
    "print(f'Filter out odd numbers from C: {C[C%2 != 0]}')"
   ]
  }
 ],
 "metadata": {
  "kernelspec": {
   "display_name": "base",
   "language": "python",
   "name": "python3"
  },
  "language_info": {
   "codemirror_mode": {
    "name": "ipython",
    "version": 3
   },
   "file_extension": ".py",
   "mimetype": "text/x-python",
   "name": "python",
   "nbconvert_exporter": "python",
   "pygments_lexer": "ipython3",
   "version": "3.9.13"
  },
  "orig_nbformat": 4,
  "vscode": {
   "interpreter": {
    "hash": "d137e21cef3bd3ee2163c174876d107c20b45114d6e65d7dfb6a45010d44d948"
   }
  }
 },
 "nbformat": 4,
 "nbformat_minor": 2
}
