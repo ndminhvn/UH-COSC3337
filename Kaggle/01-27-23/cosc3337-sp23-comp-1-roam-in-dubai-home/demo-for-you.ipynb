{
 "cells": [
  {
   "cell_type": "code",
   "execution_count": 1,
   "id": "dbe74012",
   "metadata": {
    "_cell_guid": "b1076dfc-b9ad-4769-8c92-a6c4dae69d19",
    "_uuid": "8f2839f25d086af736a60e9eeb907d3b93b6e0e5",
    "execution": {
     "iopub.execute_input": "2023-01-26T21:08:19.586253Z",
     "iopub.status.busy": "2023-01-26T21:08:19.585792Z",
     "iopub.status.idle": "2023-01-26T21:08:19.599458Z",
     "shell.execute_reply": "2023-01-26T21:08:19.598325Z"
    },
    "papermill": {
     "duration": 0.028613,
     "end_time": "2023-01-26T21:08:19.602316",
     "exception": false,
     "start_time": "2023-01-26T21:08:19.573703",
     "status": "completed"
    },
    "tags": []
   },
   "outputs": [],
   "source": [
    "# This Python 3 environment comes with many helpful analytics libraries installed\n",
    "# It is defined by the kaggle/python Docker image: https://github.com/kaggle/docker-python\n",
    "# For example, here's several helpful packages to load\n",
    "\n",
    "import numpy as np # linear algebra\n",
    "import pandas as pd # data processing, CSV file I/O (e.g. pd.read_csv)\n",
    "\n",
    "# Input data files are available in the read-only \"../input/\" directory\n",
    "# For example, running this (by clicking run or pressing Shift+Enter) will list all files under the input directory\n",
    "PATH = '/Users/ndminh/Minh/USA/University/University\\ of\\ Houston/Study/Spring\\ 2023/COSC\\ 3337/Kaggle/01-27-23/cosc3337-sp23-comp-1-roam-in-dubai-home/'\n",
    "for dirname, _, filenames in os.walk('/kaggle/input'):\n",
    "    for filename in filenames:\n",
    "        print(os.path.join(dirname, filename))\n",
    "\n",
    "# You can write up to 20GB to the current directory (/kaggle/working/) that gets preserved as output when you create a version using \"Save & Run All\" \n",
    "# You can also write temporary files to /kaggle/temp/, but they won't be saved outside of the current session"
   ]
  },
  {
   "cell_type": "code",
   "execution_count": null,
   "id": "47772337",
   "metadata": {
    "execution": {
     "iopub.execute_input": "2023-01-26T21:08:19.622860Z",
     "iopub.status.busy": "2023-01-26T21:08:19.622457Z",
     "iopub.status.idle": "2023-01-26T21:08:19.673296Z",
     "shell.execute_reply": "2023-01-26T21:08:19.672168Z"
    },
    "papermill": {
     "duration": 0.064461,
     "end_time": "2023-01-26T21:08:19.676396",
     "exception": false,
     "start_time": "2023-01-26T21:08:19.611935",
     "status": "completed"
    },
    "tags": []
   },
   "outputs": [],
   "source": [
    "#Read the data\n",
    "train = pd.read_csv(\"/kaggle/input/cosc3337-sp23-comp-1-roam-in-dubai-home/train.csv\")\n",
    "test = pd.read_csv(\"/kaggle/input/cosc3337-sp23-comp-1-roam-in-dubai-home/test.csv\")"
   ]
  },
  {
   "cell_type": "code",
   "execution_count": null,
   "id": "ccc432d0",
   "metadata": {
    "papermill": {
     "duration": 0.008597,
     "end_time": "2023-01-26T21:08:19.694898",
     "exception": false,
     "start_time": "2023-01-26T21:08:19.686301",
     "status": "completed"
    },
    "tags": []
   },
   "outputs": [],
   "source": []
  },
  {
   "cell_type": "markdown",
   "id": "9aaff96a",
   "metadata": {
    "papermill": {
     "duration": 0.008434,
     "end_time": "2023-01-26T21:08:19.712102",
     "exception": false,
     "start_time": "2023-01-26T21:08:19.703668",
     "status": "completed"
    },
    "tags": []
   },
   "source": [
    "**Why we need to take a look at both the training and the test data ?**"
   ]
  },
  {
   "cell_type": "markdown",
   "id": "e85334d1",
   "metadata": {
    "papermill": {
     "duration": 0.008395,
     "end_time": "2023-01-26T21:08:19.729472",
     "exception": false,
     "start_time": "2023-01-26T21:08:19.721077",
     "status": "completed"
    },
    "tags": []
   },
   "source": [
    "Well, as long as we are not \"seeing\" the prediction on the test data, we are good :)\n",
    "\n",
    "But it will make your life a bit easier in dealing with the \"pipelined\" tasks. "
   ]
  },
  {
   "cell_type": "code",
   "execution_count": null,
   "id": "b8cbbd73",
   "metadata": {
    "execution": {
     "iopub.execute_input": "2023-01-26T21:08:19.749059Z",
     "iopub.status.busy": "2023-01-26T21:08:19.748637Z",
     "iopub.status.idle": "2023-01-26T21:08:19.783657Z",
     "shell.execute_reply": "2023-01-26T21:08:19.782425Z"
    },
    "papermill": {
     "duration": 0.048097,
     "end_time": "2023-01-26T21:08:19.786377",
     "exception": false,
     "start_time": "2023-01-26T21:08:19.738280",
     "status": "completed"
    },
    "tags": []
   },
   "outputs": [],
   "source": [
    "train.head()"
   ]
  },
  {
   "cell_type": "code",
   "execution_count": null,
   "id": "0c22c939",
   "metadata": {
    "execution": {
     "iopub.execute_input": "2023-01-26T21:08:19.807259Z",
     "iopub.status.busy": "2023-01-26T21:08:19.806867Z",
     "iopub.status.idle": "2023-01-26T21:08:19.813145Z",
     "shell.execute_reply": "2023-01-26T21:08:19.811852Z"
    },
    "papermill": {
     "duration": 0.01981,
     "end_time": "2023-01-26T21:08:19.815686",
     "exception": false,
     "start_time": "2023-01-26T21:08:19.795876",
     "status": "completed"
    },
    "tags": []
   },
   "outputs": [],
   "source": [
    "#check the shape\n",
    "train.shape"
   ]
  },
  {
   "cell_type": "code",
   "execution_count": null,
   "id": "1f5bbdd7",
   "metadata": {
    "execution": {
     "iopub.execute_input": "2023-01-26T21:08:19.837522Z",
     "iopub.status.busy": "2023-01-26T21:08:19.837118Z",
     "iopub.status.idle": "2023-01-26T21:08:19.846806Z",
     "shell.execute_reply": "2023-01-26T21:08:19.845472Z"
    },
    "papermill": {
     "duration": 0.023179,
     "end_time": "2023-01-26T21:08:19.849298",
     "exception": false,
     "start_time": "2023-01-26T21:08:19.826119",
     "status": "completed"
    },
    "tags": []
   },
   "outputs": [],
   "source": [
    "# what are the datatypes\n",
    "train.dtypes"
   ]
  },
  {
   "cell_type": "code",
   "execution_count": null,
   "id": "9496a192",
   "metadata": {
    "execution": {
     "iopub.execute_input": "2023-01-26T21:08:19.870616Z",
     "iopub.status.busy": "2023-01-26T21:08:19.870212Z",
     "iopub.status.idle": "2023-01-26T21:08:19.985830Z",
     "shell.execute_reply": "2023-01-26T21:08:19.984597Z"
    },
    "papermill": {
     "duration": 0.129545,
     "end_time": "2023-01-26T21:08:19.988611",
     "exception": false,
     "start_time": "2023-01-26T21:08:19.859066",
     "status": "completed"
    },
    "tags": []
   },
   "outputs": [],
   "source": [
    "# Take a quick idea on all columns\n",
    "train.describe(include=\"all\")"
   ]
  },
  {
   "cell_type": "code",
   "execution_count": null,
   "id": "55ba80b0",
   "metadata": {
    "execution": {
     "iopub.execute_input": "2023-01-26T21:08:20.015040Z",
     "iopub.status.busy": "2023-01-26T21:08:20.014606Z",
     "iopub.status.idle": "2023-01-26T21:08:20.024139Z",
     "shell.execute_reply": "2023-01-26T21:08:20.022675Z"
    },
    "papermill": {
     "duration": 0.024125,
     "end_time": "2023-01-26T21:08:20.026517",
     "exception": false,
     "start_time": "2023-01-26T21:08:20.002392",
     "status": "completed"
    },
    "tags": []
   },
   "outputs": [],
   "source": [
    "## The target column is the \"Price\". So, let's get rid of that \n",
    "train_without_price = train.drop([\"price\"], axis=1)\n",
    "train_without_price.shape"
   ]
  },
  {
   "cell_type": "code",
   "execution_count": null,
   "id": "39d93e84",
   "metadata": {
    "execution": {
     "iopub.execute_input": "2023-01-26T21:08:20.049492Z",
     "iopub.status.busy": "2023-01-26T21:08:20.049055Z",
     "iopub.status.idle": "2023-01-26T21:08:20.056971Z",
     "shell.execute_reply": "2023-01-26T21:08:20.055618Z"
    },
    "papermill": {
     "duration": 0.022251,
     "end_time": "2023-01-26T21:08:20.059512",
     "exception": false,
     "start_time": "2023-01-26T21:08:20.037261",
     "status": "completed"
    },
    "tags": []
   },
   "outputs": [],
   "source": [
    "test.shape"
   ]
  },
  {
   "cell_type": "code",
   "execution_count": null,
   "id": "3dc85c2a",
   "metadata": {
    "execution": {
     "iopub.execute_input": "2023-01-26T21:08:20.082636Z",
     "iopub.status.busy": "2023-01-26T21:08:20.082205Z",
     "iopub.status.idle": "2023-01-26T21:08:20.085989Z",
     "shell.execute_reply": "2023-01-26T21:08:20.085143Z"
    },
    "papermill": {
     "duration": 0.017961,
     "end_time": "2023-01-26T21:08:20.088133",
     "exception": false,
     "start_time": "2023-01-26T21:08:20.070172",
     "status": "completed"
    },
    "tags": []
   },
   "outputs": [],
   "source": [
    "# Now I want to look at the target variable. Since, I want to use linear regression,\n",
    "# if the data doesn't look normalized, it will be a BAD NEWS for me"
   ]
  },
  {
   "cell_type": "code",
   "execution_count": null,
   "id": "efb8c35b",
   "metadata": {
    "execution": {
     "iopub.execute_input": "2023-01-26T21:08:20.110712Z",
     "iopub.status.busy": "2023-01-26T21:08:20.110335Z",
     "iopub.status.idle": "2023-01-26T21:08:21.195821Z",
     "shell.execute_reply": "2023-01-26T21:08:21.194647Z"
    },
    "papermill": {
     "duration": 1.100102,
     "end_time": "2023-01-26T21:08:21.198708",
     "exception": false,
     "start_time": "2023-01-26T21:08:20.098606",
     "status": "completed"
    },
    "tags": []
   },
   "outputs": [],
   "source": [
    "import seaborn as sns"
   ]
  },
  {
   "cell_type": "code",
   "execution_count": null,
   "id": "081b1b82",
   "metadata": {
    "execution": {
     "iopub.execute_input": "2023-01-26T21:08:21.221427Z",
     "iopub.status.busy": "2023-01-26T21:08:21.221018Z",
     "iopub.status.idle": "2023-01-26T21:08:21.563525Z",
     "shell.execute_reply": "2023-01-26T21:08:21.562186Z"
    },
    "papermill": {
     "duration": 0.356862,
     "end_time": "2023-01-26T21:08:21.566116",
     "exception": false,
     "start_time": "2023-01-26T21:08:21.209254",
     "status": "completed"
    },
    "tags": []
   },
   "outputs": [],
   "source": [
    "sns.distplot(train.price.values)"
   ]
  },
  {
   "cell_type": "code",
   "execution_count": null,
   "id": "1507697f",
   "metadata": {
    "execution": {
     "iopub.execute_input": "2023-01-26T21:08:21.590041Z",
     "iopub.status.busy": "2023-01-26T21:08:21.589378Z",
     "iopub.status.idle": "2023-01-26T21:08:21.864185Z",
     "shell.execute_reply": "2023-01-26T21:08:21.862777Z"
    },
    "papermill": {
     "duration": 0.289766,
     "end_time": "2023-01-26T21:08:21.866861",
     "exception": false,
     "start_time": "2023-01-26T21:08:21.577095",
     "status": "completed"
    },
    "tags": []
   },
   "outputs": [],
   "source": [
    "# My hunch was true. Now, to make them look normalized, I will do a log transformation \n",
    "log_price = np.log(train.price.values)\n",
    "sns.distplot(log_price)"
   ]
  },
  {
   "cell_type": "code",
   "execution_count": null,
   "id": "f319d810",
   "metadata": {
    "execution": {
     "iopub.execute_input": "2023-01-26T21:08:21.898162Z",
     "iopub.status.busy": "2023-01-26T21:08:21.897705Z",
     "iopub.status.idle": "2023-01-26T21:08:21.908613Z",
     "shell.execute_reply": "2023-01-26T21:08:21.907483Z"
    },
    "papermill": {
     "duration": 0.031096,
     "end_time": "2023-01-26T21:08:21.911489",
     "exception": false,
     "start_time": "2023-01-26T21:08:21.880393",
     "status": "completed"
    },
    "tags": []
   },
   "outputs": [],
   "source": [
    "    combined = pd.concat([train_without_price, test], axis=0)\n"
   ]
  },
  {
   "cell_type": "code",
   "execution_count": null,
   "id": "9014ca10",
   "metadata": {
    "execution": {
     "iopub.execute_input": "2023-01-26T21:08:21.947611Z",
     "iopub.status.busy": "2023-01-26T21:08:21.946489Z",
     "iopub.status.idle": "2023-01-26T21:08:21.980329Z",
     "shell.execute_reply": "2023-01-26T21:08:21.979104Z"
    },
    "papermill": {
     "duration": 0.054104,
     "end_time": "2023-01-26T21:08:21.982946",
     "exception": false,
     "start_time": "2023-01-26T21:08:21.928842",
     "status": "completed"
    },
    "tags": []
   },
   "outputs": [],
   "source": [
    "# You cannot work with object data (string) directly. You need to convert them to \"dummy variables\" or one-hot-encoded version\n",
    "combined_obj = combined[[\"neighborhood\", \"quality\"]]\n",
    "combined_obj = pd.get_dummies(combined_obj)\n",
    "combined_obj.head()"
   ]
  },
  {
   "cell_type": "code",
   "execution_count": null,
   "id": "eb03f8b7",
   "metadata": {
    "execution": {
     "iopub.execute_input": "2023-01-26T21:08:22.011901Z",
     "iopub.status.busy": "2023-01-26T21:08:22.011436Z",
     "iopub.status.idle": "2023-01-26T21:08:22.037039Z",
     "shell.execute_reply": "2023-01-26T21:08:22.035770Z"
    },
    "papermill": {
     "duration": 0.0411,
     "end_time": "2023-01-26T21:08:22.039664",
     "exception": false,
     "start_time": "2023-01-26T21:08:21.998564",
     "status": "completed"
    },
    "tags": []
   },
   "outputs": [],
   "source": [
    "# Now, drop the unwanted columns from the main train set\n",
    "combined_nonObj = combined.drop([\"Unnamed: 0\", \"id\", \"neighborhood\", \"quality\"], axis=1)\n",
    "combined_nonObj.head()"
   ]
  },
  {
   "cell_type": "code",
   "execution_count": null,
   "id": "f2e200b5",
   "metadata": {
    "execution": {
     "iopub.execute_input": "2023-01-26T21:08:22.065863Z",
     "iopub.status.busy": "2023-01-26T21:08:22.065172Z",
     "iopub.status.idle": "2023-01-26T21:08:22.088737Z",
     "shell.execute_reply": "2023-01-26T21:08:22.087594Z"
    },
    "papermill": {
     "duration": 0.039666,
     "end_time": "2023-01-26T21:08:22.091614",
     "exception": false,
     "start_time": "2023-01-26T21:08:22.051948",
     "status": "completed"
    },
    "tags": []
   },
   "outputs": [],
   "source": [
    "# Finally concatenate the transformed data\n",
    "combined_conc = pd.concat([combined_obj, combined_nonObj], axis=1)\n",
    "combined_conc.head()"
   ]
  },
  {
   "cell_type": "code",
   "execution_count": null,
   "id": "357e0dcb",
   "metadata": {
    "execution": {
     "iopub.execute_input": "2023-01-26T21:08:22.118410Z",
     "iopub.status.busy": "2023-01-26T21:08:22.117593Z",
     "iopub.status.idle": "2023-01-26T21:08:22.124891Z",
     "shell.execute_reply": "2023-01-26T21:08:22.123954Z"
    },
    "papermill": {
     "duration": 0.023205,
     "end_time": "2023-01-26T21:08:22.127056",
     "exception": false,
     "start_time": "2023-01-26T21:08:22.103851",
     "status": "completed"
    },
    "tags": []
   },
   "outputs": [],
   "source": [
    "combined_conc.shape"
   ]
  },
  {
   "cell_type": "code",
   "execution_count": null,
   "id": "cd080427",
   "metadata": {
    "execution": {
     "iopub.execute_input": "2023-01-26T21:08:22.152859Z",
     "iopub.status.busy": "2023-01-26T21:08:22.152410Z",
     "iopub.status.idle": "2023-01-26T21:08:22.158386Z",
     "shell.execute_reply": "2023-01-26T21:08:22.157161Z"
    },
    "papermill": {
     "duration": 0.021762,
     "end_time": "2023-01-26T21:08:22.160853",
     "exception": false,
     "start_time": "2023-01-26T21:08:22.139091",
     "status": "completed"
    },
    "tags": []
   },
   "outputs": [],
   "source": [
    "# Now, let's differentiate train and the test\n",
    "train_final = combined_conc[:train.shape[0]]\n",
    "test_final = combined_conc[train.shape[0]:]"
   ]
  },
  {
   "cell_type": "code",
   "execution_count": null,
   "id": "5758cfd8",
   "metadata": {
    "execution": {
     "iopub.execute_input": "2023-01-26T21:08:22.186811Z",
     "iopub.status.busy": "2023-01-26T21:08:22.186384Z",
     "iopub.status.idle": "2023-01-26T21:08:22.196797Z",
     "shell.execute_reply": "2023-01-26T21:08:22.195530Z"
    },
    "papermill": {
     "duration": 0.026201,
     "end_time": "2023-01-26T21:08:22.199256",
     "exception": false,
     "start_time": "2023-01-26T21:08:22.173055",
     "status": "completed"
    },
    "tags": []
   },
   "outputs": [],
   "source": [
    "# Now, let's focus on the train set. \n",
    "y = log_price\n",
    "X = train_final.values\n",
    "print(\"feature shape is\", X.shape)\n",
    "print(\"target shape is\", y.shape)"
   ]
  },
  {
   "cell_type": "markdown",
   "id": "c891053f",
   "metadata": {
    "papermill": {
     "duration": 0.012098,
     "end_time": "2023-01-26T21:08:22.224227",
     "exception": false,
     "start_time": "2023-01-26T21:08:22.212129",
     "status": "completed"
    },
    "tags": []
   },
   "source": [
    "**Now, let's build our regression model**"
   ]
  },
  {
   "cell_type": "code",
   "execution_count": null,
   "id": "e6d12dfa",
   "metadata": {
    "execution": {
     "iopub.execute_input": "2023-01-26T21:08:22.250534Z",
     "iopub.status.busy": "2023-01-26T21:08:22.250079Z",
     "iopub.status.idle": "2023-01-26T21:08:22.522773Z",
     "shell.execute_reply": "2023-01-26T21:08:22.521684Z"
    },
    "papermill": {
     "duration": 0.288895,
     "end_time": "2023-01-26T21:08:22.525497",
     "exception": false,
     "start_time": "2023-01-26T21:08:22.236602",
     "status": "completed"
    },
    "tags": []
   },
   "outputs": [],
   "source": [
    "from sklearn.linear_model import LinearRegression\n",
    "from sklearn.metrics import mean_squared_error\n",
    "import math\n",
    "import matplotlib.pyplot as plt"
   ]
  },
  {
   "cell_type": "code",
   "execution_count": null,
   "id": "e17ba85d",
   "metadata": {
    "execution": {
     "iopub.execute_input": "2023-01-26T21:08:22.552039Z",
     "iopub.status.busy": "2023-01-26T21:08:22.551622Z",
     "iopub.status.idle": "2023-01-26T21:08:22.588219Z",
     "shell.execute_reply": "2023-01-26T21:08:22.586502Z"
    },
    "papermill": {
     "duration": 0.055239,
     "end_time": "2023-01-26T21:08:22.593214",
     "exception": false,
     "start_time": "2023-01-26T21:08:22.537975",
     "status": "completed"
    },
    "tags": []
   },
   "outputs": [],
   "source": [
    "# create a linear regression model\n",
    "reg = LinearRegression().fit(X, y)"
   ]
  },
  {
   "cell_type": "code",
   "execution_count": null,
   "id": "f597dc8e",
   "metadata": {
    "execution": {
     "iopub.execute_input": "2023-01-26T21:08:22.657844Z",
     "iopub.status.busy": "2023-01-26T21:08:22.657133Z",
     "iopub.status.idle": "2023-01-26T21:08:22.699543Z",
     "shell.execute_reply": "2023-01-26T21:08:22.682501Z"
    },
    "papermill": {
     "duration": 0.079879,
     "end_time": "2023-01-26T21:08:22.704333",
     "exception": false,
     "start_time": "2023-01-26T21:08:22.624454",
     "status": "completed"
    },
    "tags": []
   },
   "outputs": [],
   "source": [
    "pred = reg.predict(X)"
   ]
  },
  {
   "cell_type": "code",
   "execution_count": null,
   "id": "06715551",
   "metadata": {
    "execution": {
     "iopub.execute_input": "2023-01-26T21:08:22.769235Z",
     "iopub.status.busy": "2023-01-26T21:08:22.768304Z",
     "iopub.status.idle": "2023-01-26T21:08:22.781345Z",
     "shell.execute_reply": "2023-01-26T21:08:22.779800Z"
    },
    "papermill": {
     "duration": 0.049869,
     "end_time": "2023-01-26T21:08:22.785327",
     "exception": false,
     "start_time": "2023-01-26T21:08:22.735458",
     "status": "completed"
    },
    "tags": []
   },
   "outputs": [],
   "source": [
    "math.sqrt(mean_squared_error(y, pred)) \n"
   ]
  },
  {
   "cell_type": "code",
   "execution_count": null,
   "id": "885e6cc4",
   "metadata": {
    "execution": {
     "iopub.execute_input": "2023-01-26T21:08:22.822750Z",
     "iopub.status.busy": "2023-01-26T21:08:22.822327Z",
     "iopub.status.idle": "2023-01-26T21:08:22.827283Z",
     "shell.execute_reply": "2023-01-26T21:08:22.826127Z"
    },
    "papermill": {
     "duration": 0.020921,
     "end_time": "2023-01-26T21:08:22.829444",
     "exception": false,
     "start_time": "2023-01-26T21:08:22.808523",
     "status": "completed"
    },
    "tags": []
   },
   "outputs": [],
   "source": [
    "#But that's not the original price. The RMSE on actual price would be"
   ]
  },
  {
   "cell_type": "code",
   "execution_count": null,
   "id": "64440a4f",
   "metadata": {
    "execution": {
     "iopub.execute_input": "2023-01-26T21:08:22.856003Z",
     "iopub.status.busy": "2023-01-26T21:08:22.855522Z",
     "iopub.status.idle": "2023-01-26T21:08:22.864042Z",
     "shell.execute_reply": "2023-01-26T21:08:22.862891Z"
    },
    "papermill": {
     "duration": 0.024316,
     "end_time": "2023-01-26T21:08:22.866276",
     "exception": false,
     "start_time": "2023-01-26T21:08:22.841960",
     "status": "completed"
    },
    "tags": []
   },
   "outputs": [],
   "source": [
    "math.sqrt(mean_squared_error(np.exp(y), np.exp(pred))) \n"
   ]
  },
  {
   "cell_type": "markdown",
   "id": "762b5d23",
   "metadata": {
    "papermill": {
     "duration": 0.012505,
     "end_time": "2023-01-26T21:08:22.891396",
     "exception": false,
     "start_time": "2023-01-26T21:08:22.878891",
     "status": "completed"
    },
    "tags": []
   },
   "source": [
    "The way I have created it, just for a demo purpose. You can use any algorithm and try to minimize the error"
   ]
  },
  {
   "cell_type": "code",
   "execution_count": null,
   "id": "fdf39c52",
   "metadata": {
    "execution": {
     "iopub.execute_input": "2023-01-26T21:08:22.917998Z",
     "iopub.status.busy": "2023-01-26T21:08:22.917594Z",
     "iopub.status.idle": "2023-01-26T21:08:23.127857Z",
     "shell.execute_reply": "2023-01-26T21:08:23.126645Z"
    },
    "papermill": {
     "duration": 0.226402,
     "end_time": "2023-01-26T21:08:23.130267",
     "exception": false,
     "start_time": "2023-01-26T21:08:22.903865",
     "status": "completed"
    },
    "tags": []
   },
   "outputs": [],
   "source": [
    "plt.scatter(pred, y)\n",
    "plt.xlabel(\"Predicted Price\")\n",
    "plt.ylabel(\"Actual Price\")\n",
    "plt.title(\"On Log price\")\n",
    "plt.show()"
   ]
  },
  {
   "cell_type": "code",
   "execution_count": null,
   "id": "94b05ba9",
   "metadata": {
    "execution": {
     "iopub.execute_input": "2023-01-26T21:08:23.158070Z",
     "iopub.status.busy": "2023-01-26T21:08:23.157599Z",
     "iopub.status.idle": "2023-01-26T21:08:23.373834Z",
     "shell.execute_reply": "2023-01-26T21:08:23.372524Z"
    },
    "papermill": {
     "duration": 0.233134,
     "end_time": "2023-01-26T21:08:23.376329",
     "exception": false,
     "start_time": "2023-01-26T21:08:23.143195",
     "status": "completed"
    },
    "tags": []
   },
   "outputs": [],
   "source": [
    "plt.scatter(np.exp(pred), np.exp(y))\n",
    "plt.xlabel(\"Predicted Price\")\n",
    "plt.ylabel(\"Actual Price\")\n",
    "plt.title(\"On original price\")\n",
    "plt.show()"
   ]
  },
  {
   "cell_type": "code",
   "execution_count": null,
   "id": "5764b7d6",
   "metadata": {
    "execution": {
     "iopub.execute_input": "2023-01-26T21:08:23.405186Z",
     "iopub.status.busy": "2023-01-26T21:08:23.404749Z",
     "iopub.status.idle": "2023-01-26T21:08:23.422575Z",
     "shell.execute_reply": "2023-01-26T21:08:23.420844Z"
    },
    "papermill": {
     "duration": 0.037664,
     "end_time": "2023-01-26T21:08:23.427754",
     "exception": false,
     "start_time": "2023-01-26T21:08:23.390090",
     "status": "completed"
    },
    "tags": []
   },
   "outputs": [],
   "source": [
    "# Now we will do the actual prediction on test set\n",
    "test_X = test_final.values\n",
    "pred = reg.predict(test_X)\n",
    "pred.shape"
   ]
  },
  {
   "cell_type": "code",
   "execution_count": null,
   "id": "79c1a80b",
   "metadata": {
    "execution": {
     "iopub.execute_input": "2023-01-26T21:08:23.498029Z",
     "iopub.status.busy": "2023-01-26T21:08:23.497164Z",
     "iopub.status.idle": "2023-01-26T21:08:23.505134Z",
     "shell.execute_reply": "2023-01-26T21:08:23.503546Z"
    },
    "papermill": {
     "duration": 0.051492,
     "end_time": "2023-01-26T21:08:23.513090",
     "exception": false,
     "start_time": "2023-01-26T21:08:23.461598",
     "status": "completed"
    },
    "tags": []
   },
   "outputs": [],
   "source": [
    "pred_org = np.exp(pred)"
   ]
  },
  {
   "cell_type": "code",
   "execution_count": null,
   "id": "c17727e3",
   "metadata": {
    "execution": {
     "iopub.execute_input": "2023-01-26T21:08:23.554509Z",
     "iopub.status.busy": "2023-01-26T21:08:23.554074Z",
     "iopub.status.idle": "2023-01-26T21:08:23.566820Z",
     "shell.execute_reply": "2023-01-26T21:08:23.565909Z"
    },
    "papermill": {
     "duration": 0.030206,
     "end_time": "2023-01-26T21:08:23.569490",
     "exception": false,
     "start_time": "2023-01-26T21:08:23.539284",
     "status": "completed"
    },
    "tags": []
   },
   "outputs": [],
   "source": [
    "### Please follow the guidelines here. The \"Unnamed: 0\" is the \"sid\" column for your result\n",
    "df = pd.DataFrame()\n",
    "df[\"sid\"] = test[\"Unnamed: 0\"]\n",
    "df[\"price\"] = pred_org\n",
    "df.to_csv(\"sub_1.csv\", index=False)"
   ]
  },
  {
   "cell_type": "code",
   "execution_count": null,
   "id": "023c4bf0",
   "metadata": {
    "execution": {
     "iopub.execute_input": "2023-01-26T21:08:23.598437Z",
     "iopub.status.busy": "2023-01-26T21:08:23.597344Z",
     "iopub.status.idle": "2023-01-26T21:08:23.611531Z",
     "shell.execute_reply": "2023-01-26T21:08:23.610271Z"
    },
    "papermill": {
     "duration": 0.031453,
     "end_time": "2023-01-26T21:08:23.614149",
     "exception": false,
     "start_time": "2023-01-26T21:08:23.582696",
     "status": "completed"
    },
    "tags": []
   },
   "outputs": [],
   "source": [
    "df"
   ]
  },
  {
   "cell_type": "code",
   "execution_count": null,
   "id": "b047ba3a",
   "metadata": {
    "papermill": {
     "duration": 0.013894,
     "end_time": "2023-01-26T21:08:23.641704",
     "exception": false,
     "start_time": "2023-01-26T21:08:23.627810",
     "status": "completed"
    },
    "tags": []
   },
   "outputs": [],
   "source": []
  },
  {
   "cell_type": "code",
   "execution_count": null,
   "id": "154fd401",
   "metadata": {
    "papermill": {
     "duration": 0.013303,
     "end_time": "2023-01-26T21:08:23.668654",
     "exception": false,
     "start_time": "2023-01-26T21:08:23.655351",
     "status": "completed"
    },
    "tags": []
   },
   "outputs": [],
   "source": []
  },
  {
   "cell_type": "code",
   "execution_count": null,
   "id": "867867b8",
   "metadata": {
    "papermill": {
     "duration": 0.013404,
     "end_time": "2023-01-26T21:08:23.696178",
     "exception": false,
     "start_time": "2023-01-26T21:08:23.682774",
     "status": "completed"
    },
    "tags": []
   },
   "outputs": [],
   "source": []
  },
  {
   "cell_type": "code",
   "execution_count": null,
   "id": "904d97b7",
   "metadata": {
    "papermill": {
     "duration": 0.012987,
     "end_time": "2023-01-26T21:08:23.722951",
     "exception": false,
     "start_time": "2023-01-26T21:08:23.709964",
     "status": "completed"
    },
    "tags": []
   },
   "outputs": [],
   "source": []
  }
 ],
 "metadata": {
  "kernelspec": {
   "display_name": "base",
   "language": "python",
   "name": "python3"
  },
  "language_info": {
   "codemirror_mode": {
    "name": "ipython",
    "version": 3
   },
   "file_extension": ".py",
   "mimetype": "text/x-python",
   "name": "python",
   "nbconvert_exporter": "python",
   "pygments_lexer": "ipython3",
   "version": "3.9.13"
  },
  "papermill": {
   "default_parameters": {},
   "duration": 13.711501,
   "end_time": "2023-01-26T21:08:24.559524",
   "environment_variables": {},
   "exception": null,
   "input_path": "__notebook__.ipynb",
   "output_path": "__notebook__.ipynb",
   "parameters": {},
   "start_time": "2023-01-26T21:08:10.848023",
   "version": "2.3.4"
  },
  "vscode": {
   "interpreter": {
    "hash": "d137e21cef3bd3ee2163c174876d107c20b45114d6e65d7dfb6a45010d44d948"
   }
  }
 },
 "nbformat": 4,
 "nbformat_minor": 5
}
