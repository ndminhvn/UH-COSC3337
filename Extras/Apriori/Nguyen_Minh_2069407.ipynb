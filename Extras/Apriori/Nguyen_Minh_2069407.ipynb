{
 "cells": [
  {
   "attachments": {},
   "cell_type": "markdown",
   "metadata": {},
   "source": [
    "# Apriori Extra\n",
    "## Minh Nguyen - 2069407"
   ]
  },
  {
   "cell_type": "code",
   "execution_count": 1,
   "metadata": {},
   "outputs": [],
   "source": [
    "import pandas as pd\n",
    "from mlxtend.preprocessing import TransactionEncoder\n",
    "from mlxtend.frequent_patterns import apriori\n",
    "from mlxtend.frequent_patterns import association_rules"
   ]
  },
  {
   "cell_type": "code",
   "execution_count": 2,
   "metadata": {},
   "outputs": [
    {
     "name": "stdout",
     "output_type": "stream",
     "text": [
      "       A      B      C     D      E      F      G\n",
      "0   True  False   True  True  False   True   True\n",
      "1   True   True   True  True  False   True  False\n",
      "2  False  False   True  True   True  False  False\n",
      "3   True  False  False  True  False   True  False\n",
      "4   True  False   True  True   True   True  False\n",
      "5  False   True   True  True   True   True   True\n",
      "     support   itemsets\n",
      "0   0.666667        (A)\n",
      "1   0.833333        (C)\n",
      "2   1.000000        (D)\n",
      "3   0.833333        (F)\n",
      "4   0.666667     (D, A)\n",
      "5   0.666667     (F, A)\n",
      "6   0.833333     (D, C)\n",
      "7   0.666667     (C, F)\n",
      "8   0.833333     (D, F)\n",
      "9   0.666667  (D, F, A)\n",
      "10  0.666667  (D, C, F)\n"
     ]
    }
   ],
   "source": [
    "dataset = ['ACDFG','ABCDF','CDE','ADF','ACDEF','BCDEFG']\n",
    "\n",
    "oht = TransactionEncoder()\n",
    "\n",
    "oht_ary = oht.fit(dataset).transform(dataset)\n",
    "df = pd.DataFrame(oht_ary, columns=oht.columns_)\n",
    "print(df)\n",
    "\n",
    "frequent_itemsets = apriori(df, min_support=0.6, use_colnames=True)\n",
    "print(frequent_itemsets)"
   ]
  },
  {
   "cell_type": "code",
   "execution_count": 3,
   "metadata": {},
   "outputs": [
    {
     "name": "stdout",
     "output_type": "stream",
     "text": [
      "  antecedents consequents  antecedent support  consequent support   support  \\\n",
      "0         (F)         (A)            0.833333            0.666667  0.666667   \n",
      "1         (A)         (F)            0.666667            0.833333  0.666667   \n",
      "2      (D, F)         (A)            0.833333            0.666667  0.666667   \n",
      "3      (D, A)         (F)            0.666667            0.833333  0.666667   \n",
      "4         (F)      (D, A)            0.833333            0.666667  0.666667   \n",
      "5         (A)      (D, F)            0.666667            0.833333  0.666667   \n",
      "\n",
      "   confidence  lift  leverage  conviction  zhangs_metric  \n",
      "0         0.8   1.2  0.111111    1.666667            1.0  \n",
      "1         1.0   1.2  0.111111         inf            0.5  \n",
      "2         0.8   1.2  0.111111    1.666667            1.0  \n",
      "3         1.0   1.2  0.111111         inf            0.5  \n",
      "4         0.8   1.2  0.111111    1.666667            1.0  \n",
      "5         1.0   1.2  0.111111         inf            0.5  \n"
     ]
    }
   ],
   "source": [
    "association_rules(frequent_itemsets, metric='confidence', min_threshold=0.7)\n",
    "rules = association_rules(frequent_itemsets, metric='lift', min_threshold=1.2)\n",
    "print(rules)"
   ]
  },
  {
   "cell_type": "code",
   "execution_count": 9,
   "metadata": {},
   "outputs": [
    {
     "name": "stdout",
     "output_type": "stream",
     "text": [
      "[0.66666667 0.66666667 0.66666667 0.66666667 0.66666667 0.66666667]\n",
      "[0.8 1.  0.8 1.  0.8 1. ]\n"
     ]
    }
   ],
   "source": [
    "support = rules['support'].values\n",
    "confidence = rules['confidence'].values\n",
    "print(support)\n",
    "print(confidence)"
   ]
  },
  {
   "cell_type": "code",
   "execution_count": 10,
   "metadata": {},
   "outputs": [
    {
     "data": {
      "image/png": "[encoded data removed]",
      "text/plain": [
       "<Figure size 640x480 with 1 Axes>"
      ]
     },
     "metadata": {},
     "output_type": "display_data"
    }
   ],
   "source": [
    "import random\n",
    "import matplotlib.pyplot as plt\n",
    "\n",
    "for i in range(len(support)):\n",
    "    support[i] = support[i] + 0.0025 * (random.randint(1,10) - 5)\n",
    "    confidence[i] = confidence[i] + 0.0025 * (random.randint(1,10) - 5)\n",
    "    \n",
    "plt.scatter(support, confidence, alpha = 0.5, marker = \"*\")\n",
    "plt.xlabel(\"Support\")\n",
    "plt.ylabel(\"Confidence\")\n",
    "plt.show()"
   ]
  }
 ],
 "metadata": {
  "kernelspec": {
   "display_name": "base",
   "language": "python",
   "name": "python3"
  },
  "language_info": {
   "codemirror_mode": {
    "name": "ipython",
    "version": 3
   },
   "file_extension": ".py",
   "mimetype": "text/x-python",
   "name": "python",
   "nbconvert_exporter": "python",
   "pygments_lexer": "ipython3",
   "version": "3.9.13"
  },
  "orig_nbformat": 4
 },
 "nbformat": 4,
 "nbformat_minor": 2
}
