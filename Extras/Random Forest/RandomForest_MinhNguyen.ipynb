{
 "cells": [
  {
   "cell_type": "code",
   "execution_count": 148,
   "metadata": {},
   "outputs": [],
   "source": [
    "import numpy as np\n",
    "import pandas as pd\n",
    "from sklearn import tree\n",
    "from sklearn import preprocessing\n",
    "from sklearn.model_selection import train_test_split\n",
    "from sklearn.ensemble import RandomForestClassifier\n",
    "import matplotlib.pyplot as plt"
   ]
  },
  {
   "cell_type": "code",
   "execution_count": 149,
   "metadata": {},
   "outputs": [
    {
     "data": {
      "text/html": [
       "<div>\n",
       "<style scoped>\n",
       "    .dataframe tbody tr th:only-of-type {\n",
       "        vertical-align: middle;\n",
       "    }\n",
       "\n",
       "    .dataframe tbody tr th {\n",
       "        vertical-align: top;\n",
       "    }\n",
       "\n",
       "    .dataframe thead th {\n",
       "        text-align: right;\n",
       "    }\n",
       "</style>\n",
       "<table border=\"1\" class=\"dataframe\">\n",
       "  <thead>\n",
       "    <tr style=\"text-align: right;\">\n",
       "      <th></th>\n",
       "      <th>idx</th>\n",
       "      <th>date</th>\n",
       "      <th>precipitation</th>\n",
       "      <th>temp_max</th>\n",
       "      <th>temp_min</th>\n",
       "      <th>wind</th>\n",
       "      <th>weather</th>\n",
       "    </tr>\n",
       "  </thead>\n",
       "  <tbody>\n",
       "    <tr>\n",
       "      <th>0</th>\n",
       "      <td>0</td>\n",
       "      <td>12/23/2015</td>\n",
       "      <td>6.1</td>\n",
       "      <td>5.0</td>\n",
       "      <td>2.8</td>\n",
       "      <td>7.6</td>\n",
       "      <td>0</td>\n",
       "    </tr>\n",
       "    <tr>\n",
       "      <th>1</th>\n",
       "      <td>1</td>\n",
       "      <td>2/1/2014</td>\n",
       "      <td>2.0</td>\n",
       "      <td>7.8</td>\n",
       "      <td>2.8</td>\n",
       "      <td>0.8</td>\n",
       "      <td>0</td>\n",
       "    </tr>\n",
       "    <tr>\n",
       "      <th>2</th>\n",
       "      <td>2</td>\n",
       "      <td>7/21/2014</td>\n",
       "      <td>0.0</td>\n",
       "      <td>23.9</td>\n",
       "      <td>13.3</td>\n",
       "      <td>2.2</td>\n",
       "      <td>1</td>\n",
       "    </tr>\n",
       "    <tr>\n",
       "      <th>3</th>\n",
       "      <td>3</td>\n",
       "      <td>3/11/2013</td>\n",
       "      <td>1.3</td>\n",
       "      <td>10.6</td>\n",
       "      <td>6.1</td>\n",
       "      <td>1.1</td>\n",
       "      <td>0</td>\n",
       "    </tr>\n",
       "    <tr>\n",
       "      <th>4</th>\n",
       "      <td>4</td>\n",
       "      <td>9/21/2013</td>\n",
       "      <td>0.0</td>\n",
       "      <td>21.1</td>\n",
       "      <td>13.3</td>\n",
       "      <td>2.5</td>\n",
       "      <td>1</td>\n",
       "    </tr>\n",
       "  </tbody>\n",
       "</table>\n",
       "</div>"
      ],
      "text/plain": [
       "   idx        date  precipitation  temp_max  temp_min  wind  weather\n",
       "0    0  12/23/2015            6.1       5.0       2.8   7.6        0\n",
       "1    1    2/1/2014            2.0       7.8       2.8   0.8        0\n",
       "2    2   7/21/2014            0.0      23.9      13.3   2.2        1\n",
       "3    3   3/11/2013            1.3      10.6       6.1   1.1        0\n",
       "4    4   9/21/2013            0.0      21.1      13.3   2.5        1"
      ]
     },
     "execution_count": 149,
     "metadata": {},
     "output_type": "execute_result"
    }
   ],
   "source": [
    "seattle = pd.read_csv('train.csv')\n",
    "seattle.head()"
   ]
  },
  {
   "cell_type": "code",
   "execution_count": 150,
   "metadata": {},
   "outputs": [
    {
     "data": {
      "text/plain": [
       "idx              1022\n",
       "date             1022\n",
       "precipitation      97\n",
       "temp_max           66\n",
       "temp_min           53\n",
       "wind               76\n",
       "weather             5\n",
       "dtype: int64"
      ]
     },
     "execution_count": 150,
     "metadata": {},
     "output_type": "execute_result"
    }
   ],
   "source": [
    "seattle.nunique()"
   ]
  },
  {
   "cell_type": "code",
   "execution_count": 151,
   "metadata": {},
   "outputs": [
    {
     "data": {
      "text/plain": [
       "(896, 7)"
      ]
     },
     "execution_count": 151,
     "metadata": {},
     "output_type": "execute_result"
    }
   ],
   "source": [
    "df = seattle[(seattle['weather']==1) | (seattle['weather']==0)]\n",
    "df.shape"
   ]
  },
  {
   "cell_type": "code",
   "execution_count": 152,
   "metadata": {},
   "outputs": [],
   "source": [
    "def bootstrap_dataset(dataset, sample_size, number_of_samples):\n",
    "    bootstrapped_datasets = []\n",
    "    \n",
    "    for sample_index in range(0, number_of_samples):\n",
    "        sampled_dataset = np.random.choice(dataset, size=sample_size)\n",
    "        bootstrapped_datasets.append(sampled_dataset)\n",
    "        print(sampled_dataset)\n",
    "    \n",
    "    return bootstrapped_datasets"
   ]
  },
  {
   "cell_type": "code",
   "execution_count": 153,
   "metadata": {},
   "outputs": [],
   "source": [
    "def encode_features(array):\n",
    "    encoder = preprocessing.LabelEncoder().fit(array)\n",
    "    return encoder.transform(array)"
   ]
  },
  {
   "cell_type": "code",
   "execution_count": 154,
   "metadata": {},
   "outputs": [],
   "source": [
    "def build_decision_tree(features, targets):\n",
    "    train_features, test_features, train_targets, test_targets = train_test_split(features, targets, test_size=0.2, random_state=123)\n",
    "    \n",
    "    decision_tree = tree.DecisionTreeClassifier(random_state=456)\n",
    "    decision_tree.fit(train_features, train_targets)\n",
    "    \n",
    "    print(\"Test Set Mean Squared Error = \" + str(np.round(1 - decision_tree.score(test_features, test_targets), 2)))"
   ]
  },
  {
   "cell_type": "code",
   "execution_count": 155,
   "metadata": {},
   "outputs": [],
   "source": [
    "def build_random_forest(features,targets):\n",
    "    random_forest = RandomForestClassifier(random_state=4567, bootstrap=True, oob_score=True)\n",
    "    random_forest.fit(features, targets)\n",
    "    # Out-Of-Bag Error\n",
    "    oob_error = np.round(random_forest.oob_score_,2)\n",
    "    print(\"Random Forest with \" + str(len(random_forest.estimators_)) + \" trees has OOB Error: \" + str(oob_error))"
   ]
  },
  {
   "cell_type": "code",
   "execution_count": 156,
   "metadata": {},
   "outputs": [],
   "source": [
    "def oob_error_viz(features, targets, number_trees):\n",
    "    # range is exclusive, it stops at N+1\n",
    "    # starts with 5 trees, otherwise its too few for the algorithm to run\n",
    "    min_number_trees = 5\n",
    "    max_depth_array = range(min_number_trees, number_trees+1)\n",
    "    oob_error_array = []\n",
    "    for tree_i in max_depth_array:\n",
    "        # show progress on computation\n",
    "        if tree_i % 25 == 0:\n",
    "            print(\"Building Random Forest with \" + str(tree_i) + \" trees\")\n",
    "        random_forest = RandomForestClassifier (random_state=4567, bootstrap=True, oob_score=True, n_estimators=tree_i)\n",
    "        random_forest.fit(features, targets)\n",
    "        # Out-Of-Bag Error\n",
    "        oob_error_array.append(np.round(random_forest.oob_score_, 2))\n",
    "        \n",
    "    # outputs the Lowest 00B error and the 00B error for the biggest random forest built.\n",
    "    lowest_oob_error = min(oob_error_array)\n",
    "    best_forest_size = oob_error_array.index(lowest_oob_error) + min_number_trees\n",
    "    print(\"\\nrandom Forest with \" + str(best_forest_size) + \" trees, has lowest 0OB Error= \" + str(lowest_oob_error))\n",
    "    print(\"Random Forest with \" + str(number_trees) + \" trees, has lowest 00B Error = \" + str(oob_error_array[-1]))\n",
    "    fig, ax = plt.subplots(figsize=(17, 12))\n",
    "    # removing all borders except bottom ax. spines['top'].set_visible(False) ax.spines ['right'].set_visible(False)\n",
    "    # setting y-axis limit to range to be from 0 to 1.\n",
    "    plt.ylim([0, 1])\n",
    "    ax.plot(max_depth_array, oob_error_array, color='#435373', linewidth=3)\n",
    "    # setting plot title and naming axes\n",
    "    plt.title(\"Out-Of-Bag Error as a function of number of trees\\n in Random Forest\", fontsize=25) \n",
    "    ax.set_xlabel(\"Number of trees in Random Forest\", fontsize=18, labelpad=15) \n",
    "    ax.set_ylabel(\"00B Error\", fontsize=18, labelpad=15) \n",
    "    plt.show()"
   ]
  },
  {
   "cell_type": "code",
   "execution_count": 157,
   "metadata": {},
   "outputs": [
    {
     "name": "stdout",
     "output_type": "stream",
     "text": [
      "['4/30/2012' '6/2/2015' '7/25/2012' '9/22/2015' '8/25/2015']\n",
      "['2/27/2015' '5/22/2014' '12/9/2012' '12/22/2014' '6/18/2012']\n",
      "['3/22/2015' '1/22/2014' '10/3/2015' '1/12/2014' '4/13/2013']\n",
      "['1/23/2015' '2/21/2015' '10/29/2012' '11/30/2012' '7/29/2014']\n",
      "['10/26/2012' '8/15/2013' '2/17/2014' '2/1/2014' '2/16/2013']\n",
      "['2/25/2015' '8/27/2013' '8/26/2013' '5/10/2013' '1/29/2015']\n"
     ]
    },
    {
     "data": {
      "text/plain": [
       "[array(['4/30/2012', '6/2/2015', '7/25/2012', '9/22/2015', '8/25/2015'],\n",
       "       dtype=object),\n",
       " array(['2/27/2015', '5/22/2014', '12/9/2012', '12/22/2014', '6/18/2012'],\n",
       "       dtype=object),\n",
       " array(['3/22/2015', '1/22/2014', '10/3/2015', '1/12/2014', '4/13/2013'],\n",
       "       dtype=object),\n",
       " array(['1/23/2015', '2/21/2015', '10/29/2012', '11/30/2012', '7/29/2014'],\n",
       "       dtype=object),\n",
       " array(['10/26/2012', '8/15/2013', '2/17/2014', '2/1/2014', '2/16/2013'],\n",
       "       dtype=object),\n",
       " array(['2/25/2015', '8/27/2013', '8/26/2013', '5/10/2013', '1/29/2015'],\n",
       "       dtype=object)]"
      ]
     },
     "execution_count": 157,
     "metadata": {},
     "output_type": "execute_result"
    }
   ],
   "source": [
    "bootstrap_dataset(df['date'], sample_size=5, number_of_samples=6)"
   ]
  },
  {
   "cell_type": "code",
   "execution_count": 158,
   "metadata": {},
   "outputs": [
    {
     "name": "stdout",
     "output_type": "stream",
     "text": [
      "Test Set Mean Squared Error = 0.04\n"
     ]
    }
   ],
   "source": [
    "features = df[[\"date\", \"precipitation\", \"temp_max\", \"temp_min\", \"wind\"]].values\n",
    "targets = df['weather'].values\n",
    "\n",
    "# encoding features\n",
    "features[:, 0] = encode_features(features[:, 0])\n",
    "targets = encode_features(targets)\n",
    "build_decision_tree(features, targets)"
   ]
  },
  {
   "cell_type": "code",
   "execution_count": 159,
   "metadata": {},
   "outputs": [
    {
     "name": "stdout",
     "output_type": "stream",
     "text": [
      "Random Forest with 100 trees has OOB Error: 0.96\n"
     ]
    }
   ],
   "source": [
    "build_random_forest(features, targets)"
   ]
  },
  {
   "cell_type": "code",
   "execution_count": 160,
   "metadata": {},
   "outputs": [
    {
     "name": "stderr",
     "output_type": "stream",
     "text": [
      "/Users/ndminh/opt/anaconda3/lib/python3.9/site-packages/sklearn/ensemble/_forest.py:560: UserWarning: Some inputs do not have OOB scores. This probably means too few trees were used to compute any reliable OOB estimates.\n",
      "  warn(\n",
      "/Users/ndminh/opt/anaconda3/lib/python3.9/site-packages/sklearn/ensemble/_forest.py:560: UserWarning: Some inputs do not have OOB scores. This probably means too few trees were used to compute any reliable OOB estimates.\n",
      "  warn(\n",
      "/Users/ndminh/opt/anaconda3/lib/python3.9/site-packages/sklearn/ensemble/_forest.py:560: UserWarning: Some inputs do not have OOB scores. This probably means too few trees were used to compute any reliable OOB estimates.\n",
      "  warn(\n",
      "/Users/ndminh/opt/anaconda3/lib/python3.9/site-packages/sklearn/ensemble/_forest.py:560: UserWarning: Some inputs do not have OOB scores. This probably means too few trees were used to compute any reliable OOB estimates.\n",
      "  warn(\n",
      "/Users/ndminh/opt/anaconda3/lib/python3.9/site-packages/sklearn/ensemble/_forest.py:560: UserWarning: Some inputs do not have OOB scores. This probably means too few trees were used to compute any reliable OOB estimates.\n",
      "  warn(\n",
      "/Users/ndminh/opt/anaconda3/lib/python3.9/site-packages/sklearn/ensemble/_forest.py:560: UserWarning: Some inputs do not have OOB scores. This probably means too few trees were used to compute any reliable OOB estimates.\n",
      "  warn(\n",
      "/Users/ndminh/opt/anaconda3/lib/python3.9/site-packages/sklearn/ensemble/_forest.py:560: UserWarning: Some inputs do not have OOB scores. This probably means too few trees were used to compute any reliable OOB estimates.\n",
      "  warn(\n",
      "/Users/ndminh/opt/anaconda3/lib/python3.9/site-packages/sklearn/ensemble/_forest.py:560: UserWarning: Some inputs do not have OOB scores. This probably means too few trees were used to compute any reliable OOB estimates.\n",
      "  warn(\n"
     ]
    },
    {
     "name": "stdout",
     "output_type": "stream",
     "text": [
      "Building Random Forest with 25 trees\n",
      "Building Random Forest with 50 trees\n",
      "Building Random Forest with 75 trees\n",
      "Building Random Forest with 100 trees\n",
      "Building Random Forest with 125 trees\n",
      "Building Random Forest with 150 trees\n",
      "\n",
      "random Forest with 5 trees, has lowest 0OB Error= 0.89\n",
      "Random Forest with 150 trees, has lowest 00B Error = 0.96\n"
     ]
    },
    {
     "data": {
      "image/png": "[encoded data removed]",
      "text/plain": [
       "<Figure size 1700x1200 with 1 Axes>"
      ]
     },
     "metadata": {},
     "output_type": "display_data"
    }
   ],
   "source": [
    "oob_error_viz(features, targets, number_trees=150)"
   ]
  }
 ],
 "metadata": {
  "kernelspec": {
   "display_name": "base",
   "language": "python",
   "name": "python3"
  },
  "language_info": {
   "codemirror_mode": {
    "name": "ipython",
    "version": 3
   },
   "file_extension": ".py",
   "mimetype": "text/x-python",
   "name": "python",
   "nbconvert_exporter": "python",
   "pygments_lexer": "ipython3",
   "version": "3.9.13"
  },
  "orig_nbformat": 4
 },
 "nbformat": 4,
 "nbformat_minor": 2
}
